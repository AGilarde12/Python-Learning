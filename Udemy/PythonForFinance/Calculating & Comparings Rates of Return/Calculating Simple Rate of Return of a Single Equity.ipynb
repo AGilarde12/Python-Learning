{
 "cells": [
  {
   "cell_type": "markdown",
   "metadata": {},
   "source": [
    "## Calculating Simple Rate of Return"
   ]
  },
  {
   "cell_type": "markdown",
   "metadata": {},
   "source": [
    "Download the data for Microsoft (‘MSFT’) from Yahoo Finance for the period ‘2000-1-1’ until today."
   ]
  },
  {
   "cell_type": "code",
   "execution_count": 2,
   "metadata": {},
   "outputs": [],
   "source": [
    "import pandas as pd\n",
    "import matplotlib\n",
    "msft = pd.read_csv('MSFT.csv')"
   ]
  },
  {
   "cell_type": "markdown",
   "metadata": {},
   "source": [
    "Apply the .**head()** and **.tail()** methods to check if the data is ok. Always pay attention to the dates. Try to get an idea about how the stock price changed during the period."
   ]
  },
  {
   "cell_type": "code",
   "execution_count": 3,
   "metadata": {},
   "outputs": [
    {
     "data": {
      "text/html": [
       "<div>\n",
       "<style scoped>\n",
       "    .dataframe tbody tr th:only-of-type {\n",
       "        vertical-align: middle;\n",
       "    }\n",
       "\n",
       "    .dataframe tbody tr th {\n",
       "        vertical-align: top;\n",
       "    }\n",
       "\n",
       "    .dataframe thead th {\n",
       "        text-align: right;\n",
       "    }\n",
       "</style>\n",
       "<table border=\"1\" class=\"dataframe\">\n",
       "  <thead>\n",
       "    <tr style=\"text-align: right;\">\n",
       "      <th></th>\n",
       "      <th>Date</th>\n",
       "      <th>Open</th>\n",
       "      <th>High</th>\n",
       "      <th>Low</th>\n",
       "      <th>Close</th>\n",
       "      <th>Adj Close</th>\n",
       "      <th>Volume</th>\n",
       "    </tr>\n",
       "  </thead>\n",
       "  <tbody>\n",
       "    <tr>\n",
       "      <th>0</th>\n",
       "      <td>2000-01-03</td>\n",
       "      <td>58.68750</td>\n",
       "      <td>59.31250</td>\n",
       "      <td>56.00000</td>\n",
       "      <td>58.28125</td>\n",
       "      <td>37.623280</td>\n",
       "      <td>53228400</td>\n",
       "    </tr>\n",
       "    <tr>\n",
       "      <th>1</th>\n",
       "      <td>2000-01-04</td>\n",
       "      <td>56.78125</td>\n",
       "      <td>58.56250</td>\n",
       "      <td>56.12500</td>\n",
       "      <td>56.31250</td>\n",
       "      <td>36.352352</td>\n",
       "      <td>54119000</td>\n",
       "    </tr>\n",
       "    <tr>\n",
       "      <th>2</th>\n",
       "      <td>2000-01-05</td>\n",
       "      <td>55.56250</td>\n",
       "      <td>58.18750</td>\n",
       "      <td>54.68750</td>\n",
       "      <td>56.90625</td>\n",
       "      <td>36.735657</td>\n",
       "      <td>64059600</td>\n",
       "    </tr>\n",
       "    <tr>\n",
       "      <th>3</th>\n",
       "      <td>2000-01-06</td>\n",
       "      <td>56.09375</td>\n",
       "      <td>56.93750</td>\n",
       "      <td>54.18750</td>\n",
       "      <td>55.00000</td>\n",
       "      <td>35.505081</td>\n",
       "      <td>54976600</td>\n",
       "    </tr>\n",
       "    <tr>\n",
       "      <th>4</th>\n",
       "      <td>2000-01-07</td>\n",
       "      <td>54.31250</td>\n",
       "      <td>56.12500</td>\n",
       "      <td>53.65625</td>\n",
       "      <td>55.71875</td>\n",
       "      <td>35.969063</td>\n",
       "      <td>62013600</td>\n",
       "    </tr>\n",
       "    <tr>\n",
       "      <th>5</th>\n",
       "      <td>2000-01-10</td>\n",
       "      <td>56.71875</td>\n",
       "      <td>56.84375</td>\n",
       "      <td>55.68750</td>\n",
       "      <td>56.12500</td>\n",
       "      <td>36.231319</td>\n",
       "      <td>44963600</td>\n",
       "    </tr>\n",
       "    <tr>\n",
       "      <th>6</th>\n",
       "      <td>2000-01-11</td>\n",
       "      <td>55.75000</td>\n",
       "      <td>57.12500</td>\n",
       "      <td>54.34375</td>\n",
       "      <td>54.68750</td>\n",
       "      <td>35.303345</td>\n",
       "      <td>46743600</td>\n",
       "    </tr>\n",
       "    <tr>\n",
       "      <th>7</th>\n",
       "      <td>2000-01-12</td>\n",
       "      <td>54.25000</td>\n",
       "      <td>54.43750</td>\n",
       "      <td>52.21875</td>\n",
       "      <td>52.90625</td>\n",
       "      <td>34.153461</td>\n",
       "      <td>66532400</td>\n",
       "    </tr>\n",
       "    <tr>\n",
       "      <th>8</th>\n",
       "      <td>2000-01-13</td>\n",
       "      <td>52.18750</td>\n",
       "      <td>54.31250</td>\n",
       "      <td>50.75000</td>\n",
       "      <td>53.90625</td>\n",
       "      <td>34.799011</td>\n",
       "      <td>83144000</td>\n",
       "    </tr>\n",
       "    <tr>\n",
       "      <th>9</th>\n",
       "      <td>2000-01-14</td>\n",
       "      <td>53.59375</td>\n",
       "      <td>56.96875</td>\n",
       "      <td>52.87500</td>\n",
       "      <td>56.12500</td>\n",
       "      <td>36.231319</td>\n",
       "      <td>73416400</td>\n",
       "    </tr>\n",
       "  </tbody>\n",
       "</table>\n",
       "</div>"
      ],
      "text/plain": [
       "         Date      Open      High       Low     Close  Adj Close    Volume\n",
       "0  2000-01-03  58.68750  59.31250  56.00000  58.28125  37.623280  53228400\n",
       "1  2000-01-04  56.78125  58.56250  56.12500  56.31250  36.352352  54119000\n",
       "2  2000-01-05  55.56250  58.18750  54.68750  56.90625  36.735657  64059600\n",
       "3  2000-01-06  56.09375  56.93750  54.18750  55.00000  35.505081  54976600\n",
       "4  2000-01-07  54.31250  56.12500  53.65625  55.71875  35.969063  62013600\n",
       "5  2000-01-10  56.71875  56.84375  55.68750  56.12500  36.231319  44963600\n",
       "6  2000-01-11  55.75000  57.12500  54.34375  54.68750  35.303345  46743600\n",
       "7  2000-01-12  54.25000  54.43750  52.21875  52.90625  34.153461  66532400\n",
       "8  2000-01-13  52.18750  54.31250  50.75000  53.90625  34.799011  83144000\n",
       "9  2000-01-14  53.59375  56.96875  52.87500  56.12500  36.231319  73416400"
      ]
     },
     "execution_count": 3,
     "metadata": {},
     "output_type": "execute_result"
    }
   ],
   "source": [
    "msft.head(10)"
   ]
  },
  {
   "cell_type": "code",
   "execution_count": 4,
   "metadata": {},
   "outputs": [
    {
     "data": {
      "text/html": [
       "<div>\n",
       "<style scoped>\n",
       "    .dataframe tbody tr th:only-of-type {\n",
       "        vertical-align: middle;\n",
       "    }\n",
       "\n",
       "    .dataframe tbody tr th {\n",
       "        vertical-align: top;\n",
       "    }\n",
       "\n",
       "    .dataframe thead th {\n",
       "        text-align: right;\n",
       "    }\n",
       "</style>\n",
       "<table border=\"1\" class=\"dataframe\">\n",
       "  <thead>\n",
       "    <tr style=\"text-align: right;\">\n",
       "      <th></th>\n",
       "      <th>Date</th>\n",
       "      <th>Open</th>\n",
       "      <th>High</th>\n",
       "      <th>Low</th>\n",
       "      <th>Close</th>\n",
       "      <th>Adj Close</th>\n",
       "      <th>Volume</th>\n",
       "    </tr>\n",
       "  </thead>\n",
       "  <tbody>\n",
       "    <tr>\n",
       "      <th>4769</th>\n",
       "      <td>2018-12-17</td>\n",
       "      <td>105.410004</td>\n",
       "      <td>105.800003</td>\n",
       "      <td>101.709999</td>\n",
       "      <td>102.889999</td>\n",
       "      <td>101.735832</td>\n",
       "      <td>56957300</td>\n",
       "    </tr>\n",
       "    <tr>\n",
       "      <th>4770</th>\n",
       "      <td>2018-12-18</td>\n",
       "      <td>103.750000</td>\n",
       "      <td>104.510002</td>\n",
       "      <td>102.519997</td>\n",
       "      <td>103.970001</td>\n",
       "      <td>102.803719</td>\n",
       "      <td>49319200</td>\n",
       "    </tr>\n",
       "    <tr>\n",
       "      <th>4771</th>\n",
       "      <td>2018-12-19</td>\n",
       "      <td>103.650002</td>\n",
       "      <td>106.879997</td>\n",
       "      <td>101.349998</td>\n",
       "      <td>103.690002</td>\n",
       "      <td>102.526863</td>\n",
       "      <td>68198200</td>\n",
       "    </tr>\n",
       "    <tr>\n",
       "      <th>4772</th>\n",
       "      <td>2018-12-20</td>\n",
       "      <td>103.050003</td>\n",
       "      <td>104.309998</td>\n",
       "      <td>98.779999</td>\n",
       "      <td>101.510002</td>\n",
       "      <td>100.371323</td>\n",
       "      <td>70334200</td>\n",
       "    </tr>\n",
       "    <tr>\n",
       "      <th>4773</th>\n",
       "      <td>2018-12-21</td>\n",
       "      <td>101.629997</td>\n",
       "      <td>103.000000</td>\n",
       "      <td>97.459999</td>\n",
       "      <td>98.230003</td>\n",
       "      <td>97.128105</td>\n",
       "      <td>111242100</td>\n",
       "    </tr>\n",
       "    <tr>\n",
       "      <th>4774</th>\n",
       "      <td>2018-12-24</td>\n",
       "      <td>97.680000</td>\n",
       "      <td>97.970001</td>\n",
       "      <td>93.980003</td>\n",
       "      <td>94.129997</td>\n",
       "      <td>93.074097</td>\n",
       "      <td>43935200</td>\n",
       "    </tr>\n",
       "    <tr>\n",
       "      <th>4775</th>\n",
       "      <td>2018-12-26</td>\n",
       "      <td>95.139999</td>\n",
       "      <td>100.690002</td>\n",
       "      <td>93.959999</td>\n",
       "      <td>100.559998</td>\n",
       "      <td>99.431976</td>\n",
       "      <td>51634800</td>\n",
       "    </tr>\n",
       "    <tr>\n",
       "      <th>4776</th>\n",
       "      <td>2018-12-27</td>\n",
       "      <td>99.300003</td>\n",
       "      <td>101.190002</td>\n",
       "      <td>96.400002</td>\n",
       "      <td>101.180000</td>\n",
       "      <td>100.045013</td>\n",
       "      <td>49498500</td>\n",
       "    </tr>\n",
       "    <tr>\n",
       "      <th>4777</th>\n",
       "      <td>2018-12-28</td>\n",
       "      <td>102.089996</td>\n",
       "      <td>102.410004</td>\n",
       "      <td>99.519997</td>\n",
       "      <td>100.389999</td>\n",
       "      <td>99.263878</td>\n",
       "      <td>38196300</td>\n",
       "    </tr>\n",
       "    <tr>\n",
       "      <th>4778</th>\n",
       "      <td>2018-12-31</td>\n",
       "      <td>101.290001</td>\n",
       "      <td>102.400002</td>\n",
       "      <td>100.440002</td>\n",
       "      <td>101.570000</td>\n",
       "      <td>100.430641</td>\n",
       "      <td>33173800</td>\n",
       "    </tr>\n",
       "  </tbody>\n",
       "</table>\n",
       "</div>"
      ],
      "text/plain": [
       "            Date        Open        High         Low       Close   Adj Close  \\\n",
       "4769  2018-12-17  105.410004  105.800003  101.709999  102.889999  101.735832   \n",
       "4770  2018-12-18  103.750000  104.510002  102.519997  103.970001  102.803719   \n",
       "4771  2018-12-19  103.650002  106.879997  101.349998  103.690002  102.526863   \n",
       "4772  2018-12-20  103.050003  104.309998   98.779999  101.510002  100.371323   \n",
       "4773  2018-12-21  101.629997  103.000000   97.459999   98.230003   97.128105   \n",
       "4774  2018-12-24   97.680000   97.970001   93.980003   94.129997   93.074097   \n",
       "4775  2018-12-26   95.139999  100.690002   93.959999  100.559998   99.431976   \n",
       "4776  2018-12-27   99.300003  101.190002   96.400002  101.180000  100.045013   \n",
       "4777  2018-12-28  102.089996  102.410004   99.519997  100.389999   99.263878   \n",
       "4778  2018-12-31  101.290001  102.400002  100.440002  101.570000  100.430641   \n",
       "\n",
       "         Volume  \n",
       "4769   56957300  \n",
       "4770   49319200  \n",
       "4771   68198200  \n",
       "4772   70334200  \n",
       "4773  111242100  \n",
       "4774   43935200  \n",
       "4775   51634800  \n",
       "4776   49498500  \n",
       "4777   38196300  \n",
       "4778   33173800  "
      ]
     },
     "execution_count": 4,
     "metadata": {},
     "output_type": "execute_result"
    }
   ],
   "source": [
    "msft.tail(10)"
   ]
  },
  {
   "cell_type": "markdown",
   "metadata": {
    "collapsed": true
   },
   "source": [
    "### Simple Rate of Return"
   ]
  },
  {
   "cell_type": "markdown",
   "metadata": {},
   "source": [
    "Calculate the simple returns of ‘MSFT’ for the given timeframe."
   ]
  },
  {
   "cell_type": "markdown",
   "metadata": {},
   "source": [
    "$$\n",
    "\\frac{P_1 - P_0}{P_0} = \\frac{P_1}{P_0} - 1\n",
    "$$"
   ]
  },
  {
   "cell_type": "code",
   "execution_count": 22,
   "metadata": {},
   "outputs": [],
   "source": [
    "msft['simple_return'] = (msft['Adj Close'] / msft['Adj Close'].shift(1)) - 1"
   ]
  },
  {
   "cell_type": "code",
   "execution_count": 10,
   "metadata": {},
   "outputs": [
    {
     "data": {
      "text/plain": [
       "<matplotlib.axes._subplots.AxesSubplot at 0x24c3a856080>"
      ]
     },
     "execution_count": 10,
     "metadata": {},
     "output_type": "execute_result"
    },
    {
     "data": {
      "image/png": "[encoded data removed]",
      "text/plain": [
       "<Figure size 576x360 with 1 Axes>"
      ]
     },
     "metadata": {
      "needs_background": "light"
     },
     "output_type": "display_data"
    }
   ],
   "source": [
    "msft['simple_return'].plot(figsize=(8,5))"
   ]
  },
  {
   "cell_type": "code",
   "execution_count": 11,
   "metadata": {},
   "outputs": [
    {
     "data": {
      "text/plain": [
       "0.00039091542281274926"
      ]
     },
     "execution_count": 11,
     "metadata": {},
     "output_type": "execute_result"
    }
   ],
   "source": [
    "avg_return_d = msft['simple_return'].mean()\n",
    "avg_return_d"
   ]
  },
  {
   "cell_type": "code",
   "execution_count": 20,
   "metadata": {},
   "outputs": [],
   "source": [
    "## Annual rate of return"
   ]
  },
  {
   "cell_type": "code",
   "execution_count": 21,
   "metadata": {},
   "outputs": [
    {
     "name": "stdout",
     "output_type": "stream",
     "text": [
      "9.773%\n"
     ]
    }
   ],
   "source": [
    "#Lets calculate an average yearly return\n",
    "avg_returns_a = msft['simple_return'].mean()*250\n",
    "string_return = str(round(avg_returns_a,5)*100)\n",
    "print(string_return + \"%\")"
   ]
  }
 ],
 "metadata": {
  "kernelspec": {
   "display_name": "Python 3",
   "language": "python",
   "name": "python3"
  },
  "language_info": {
   "codemirror_mode": {
    "name": "ipython",
    "version": 3
   },
   "file_extension": ".py",
   "mimetype": "text/x-python",
   "name": "python",
   "nbconvert_exporter": "python",
   "pygments_lexer": "ipython3",
   "version": "3.7.3"
  }
 },
 "nbformat": 4,
 "nbformat_minor": 2
}
